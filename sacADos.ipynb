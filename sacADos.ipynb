{
  "nbformat": 4,
  "nbformat_minor": 0,
  "metadata": {
    "colab": {
      "name": "optim.ipynb",
      "provenance": []
    },
    "kernelspec": {
      "name": "python3",
      "display_name": "Python 3"
    },
    "language_info": {
      "name": "python"
    }
  },
  "cells": [
    {
      "cell_type": "markdown",
      "source": [
        "# Imports\n",
        "\n"
      ],
      "metadata": {
        "id": "o2DVTGH0jcit"
      }
    },
    {
      "cell_type": "code",
      "source": [
        "!pip install pulp"
      ],
      "metadata": {
        "colab": {
          "base_uri": "https://localhost:8080/"
        },
        "id": "frlF1U70sKgh",
        "outputId": "180bf501-54a9-440d-e910-0792505936f6"
      },
      "execution_count": 1,
      "outputs": [
        {
          "output_type": "stream",
          "name": "stdout",
          "text": [
            "Collecting pulp\n",
            "  Downloading PuLP-2.6.0-py3-none-any.whl (14.2 MB)\n",
            "\u001b[K     |████████████████████████████████| 14.2 MB 25.8 MB/s \n",
            "\u001b[?25hInstalling collected packages: pulp\n",
            "Successfully installed pulp-2.6.0\n"
          ]
        }
      ]
    },
    {
      "cell_type": "code",
      "source": [
        "import itertools\n",
        "from pulp import *"
      ],
      "metadata": {
        "id": "bhzjrHyWjbsz"
      },
      "execution_count": 2,
      "outputs": []
    },
    {
      "cell_type": "markdown",
      "source": [
        "# Brute force\n"
      ],
      "metadata": {
        "id": "uuYx-3vRihGE"
      }
    },
    {
      "cell_type": "code",
      "execution_count": null,
      "metadata": {
        "id": "Ww6x3QzbicnC"
      },
      "outputs": [],
      "source": [
        "a1 = 8000\n",
        "a2 = 11000\n",
        "a3 = 6000\n",
        "a4 = 4000\n",
        "tab_a = [a1, a2, a3, a4]\n",
        "m1 = 6700\n",
        "m2 = 10000\n",
        "m3 = 5500\n",
        "m4 = 3400\n",
        "liste_projets = [a1, a2, a3, a4]\n",
        "critere = 19000"
      ]
    },
    {
      "cell_type": "code",
      "source": [
        " combinaisons = [list(itertools.combinations(liste_projets, i)) for i in range(len(liste_projets))]\n",
        " combinaisons"
      ],
      "metadata": {
        "colab": {
          "base_uri": "https://localhost:8080/"
        },
        "id": "9l8JplpjjMWV",
        "outputId": "6c93341a-33c6-43a5-9bcb-15bb29ab01d7"
      },
      "execution_count": null,
      "outputs": [
        {
          "output_type": "execute_result",
          "data": {
            "text/plain": [
              "[[()],\n",
              " [(8000,), (11000,), (6000,), (4000,)],\n",
              " [(8000, 11000),\n",
              "  (8000, 6000),\n",
              "  (8000, 4000),\n",
              "  (11000, 6000),\n",
              "  (11000, 4000),\n",
              "  (6000, 4000)],\n",
              " [(8000, 11000, 6000),\n",
              "  (8000, 11000, 4000),\n",
              "  (8000, 6000, 4000),\n",
              "  (11000, 6000, 4000)]]"
            ]
          },
          "metadata": {},
          "execution_count": 10
        }
      ]
    },
    {
      "cell_type": "code",
      "source": [
        "def modif_combinaisons(combinaisons):\n",
        "  res = []\n",
        "  for i in range(len(combinaisons)):\n",
        "    for j in range(len(combinaisons[i])):\n",
        "      if (list(combinaisons[i][j]) != []):\n",
        "        res.append(list(combinaisons[i][j]))\n",
        "  return res\n",
        "\n",
        "combinaisons = modif_combinaisons(combinaisons)\n",
        "print(combinaisons)"
      ],
      "metadata": {
        "colab": {
          "base_uri": "https://localhost:8080/"
        },
        "id": "aCVyqVIFlOLC",
        "outputId": "821aaa36-d5fd-47e9-ed3c-aa13e2f525c1"
      },
      "execution_count": null,
      "outputs": [
        {
          "output_type": "stream",
          "name": "stdout",
          "text": [
            "[[8000], [11000], [6000], [4000], [8000, 11000], [8000, 6000], [8000, 4000], [11000, 6000], [11000, 4000], [6000, 4000], [8000, 11000, 6000], [8000, 11000, 4000], [8000, 6000, 4000], [11000, 6000, 4000]]\n"
          ]
        }
      ]
    },
    {
      "cell_type": "code",
      "source": [
        "def somme_critère(tab_une_combinaison, a1, a2, a3, a4, m1, m2, m3, m4):\n",
        "  somme = 0\n",
        "  for i in range(len(tab_une_combinaison)):\n",
        "    if (tab_une_combinaison[i] == a1):\n",
        "      somme += m1\n",
        "    elif (tab_une_combinaison[i] == a2):\n",
        "      somme += m2\n",
        "    elif (tab_une_combinaison[i] == a3):\n",
        "      somme += m3\n",
        "    elif (tab_une_combinaison[i] == a4):\n",
        "      somme += m4\n",
        "  return(somme)"
      ],
      "metadata": {
        "id": "QnenmCY9mGm8"
      },
      "execution_count": null,
      "outputs": []
    },
    {
      "cell_type": "code",
      "source": [
        "sommes_criteres = []\n",
        "somme_combinaisons = []\n",
        "for i in range(len(combinaisons)):\n",
        "  sommes_criteres.append(somme_critère(combinaisons[i], a1, a2, a3, a4, m1, m2, m3, m4))\n",
        "  somme_combinaisons.append(sum(combinaisons[i]))\n",
        "\n",
        "print(\"Somme des critères : \", sommes_criteres)\n",
        "print(\"Somme des combinaisons : \", somme_combinaisons)"
      ],
      "metadata": {
        "colab": {
          "base_uri": "https://localhost:8080/"
        },
        "id": "OC0yyWfYnfXS",
        "outputId": "7ab8f5fa-32a6-4671-f16e-22b18b325230"
      },
      "execution_count": null,
      "outputs": [
        {
          "output_type": "stream",
          "name": "stdout",
          "text": [
            "Somme des critères :  [6700, 10000, 5500, 3400, 16700, 12200, 10100, 15500, 13400, 8900, 22200, 20100, 15600, 18900]\n",
            "Somme des combinaisons :  [8000, 11000, 6000, 4000, 19000, 14000, 12000, 17000, 15000, 10000, 25000, 23000, 18000, 21000]\n"
          ]
        }
      ]
    },
    {
      "cell_type": "code",
      "source": [
        "def resultat_maximisation(sommes_criteres, sommes_combinaisons, critere, combinaisons):\n",
        "  res_somme_combinaisons = sommes_combinaisons[0]\n",
        "  res_somme_criteres = sommes_criteres[0]\n",
        "  meilleure_combinaison = []\n",
        "  for i in range(len(sommes_criteres)):\n",
        "    if (sommes_criteres[i] <= critere):\n",
        "      if(res_somme_combinaisons < sommes_combinaisons[i]):\n",
        "        res_somme_combinaisons = sommes_combinaisons[i]\n",
        "        res_somme_criteres = sommes_criteres[i]\n",
        "        meilleure_combinaison = combinaisons[i]\n",
        "  retour = [res_somme_combinaisons, res_somme_criteres, meilleure_combinaison]\n",
        "  return(retour)\n",
        "\n",
        "\n",
        "res_maxim_brute_force = resultat_maximisation(sommes_criteres, somme_combinaisons, critere, combinaisons)\n",
        "print(\"Meilleure somme combinaison : \", res_maxim_brute_force[0])\n",
        "print(\"Meilleure somme critères : \", res_maxim_brute_force[1])\n",
        "print(\"Meilleure combinaison : \", res_maxim_brute_force[2])"
      ],
      "metadata": {
        "colab": {
          "base_uri": "https://localhost:8080/"
        },
        "id": "sEBdF3NtoPit",
        "outputId": "119658aa-5aac-4b48-dbd7-270245954302"
      },
      "execution_count": null,
      "outputs": [
        {
          "output_type": "stream",
          "name": "stdout",
          "text": [
            "Meilleure somme combinaison :  21000\n",
            "Meilleure somme critères :  18900\n",
            "Meilleure combinaison :  [11000, 6000, 4000]\n"
          ]
        }
      ]
    },
    {
      "cell_type": "code",
      "source": [
        "def association_combinaison_valeur(meilleure_combinaison, tab_a):\n",
        "  chaine = \"\";\n",
        "  for i in range(len(tab_a)):\n",
        "    if (i > 0):\n",
        "      chaine += \" ; \"\n",
        "    if (tab_a[i] in meilleure_combinaison):\n",
        "      chaine += \"x\" + str(i+1) + \" = 1\"\n",
        "    else:\n",
        "      chaine += \"x\" + str(i+1) + \" = 0\"\n",
        "  print(chaine)\n",
        "\n",
        "association_combinaison_valeur(res_maxim_brute_force[2], tab_a)"
      ],
      "metadata": {
        "colab": {
          "base_uri": "https://localhost:8080/"
        },
        "id": "HrvIJjQ_utIx",
        "outputId": "c8587945-1592-4f34-b266-1ed4571891d1"
      },
      "execution_count": null,
      "outputs": [
        {
          "output_type": "stream",
          "name": "stdout",
          "text": [
            "x1 = 0 ; x2 = 1 ; x3 = 1 ; x4 = 1\n"
          ]
        }
      ]
    },
    {
      "cell_type": "markdown",
      "source": [
        "# Avec le module pulp"
      ],
      "metadata": {
        "id": "HWqxy0PXr_QT"
      }
    },
    {
      "cell_type": "markdown",
      "source": [
        "Avec la seule contrainte du budget"
      ],
      "metadata": {
        "id": "1jDlkGdUMWjh"
      }
    },
    {
      "cell_type": "code",
      "source": [
        "#Créer le problème\n",
        "prob = LpProblem(\"sac_a_dos\", LpMaximize)\n",
        "\n",
        "#Créer les variables\n",
        "x1 = LpVariable(\"x1\", lowBound=0, cat=\"Binary\")\n",
        "x2 = LpVariable(\"x2\", lowBound=0, cat=\"Binary\")\n",
        "x3 = LpVariable(\"x3\", lowBound=0, cat=\"Binary\")\n",
        "x4 = LpVariable(\"x4\", lowBound=0, cat=\"Binary\")\n",
        "\n",
        "#La fonction à optimiser\n",
        "\n",
        "prob += 8000*x1+11000*x2+6000*x3+4000*x4\n",
        "\n",
        "#Les contraintes\n",
        "\n",
        "prob += 6700*x1+10000*x2+5500*x3+3400*x4 <= 19000\n",
        "\n",
        "#La résolution\n",
        "\n",
        "sol = prob.solve()\n",
        "\n",
        "#Affichage de la solution\n",
        "\n",
        "print(\"x1 = \", value(x1), \" ; x2 = \", value(x2), \" ; x3 = \", value(x3), \" ; x4 = \", value(x4), \"\\nRésultat = \", value(prob.objective))"
      ],
      "metadata": {
        "colab": {
          "base_uri": "https://localhost:8080/"
        },
        "id": "1FrFNswisCY2",
        "outputId": "054a386d-48d6-44b3-ed9f-5e4d70e94f8e"
      },
      "execution_count": null,
      "outputs": [
        {
          "output_type": "stream",
          "name": "stdout",
          "text": [
            "x1 =  0.0  ; x2 =  1.0  ; x3 =  1.0  ; x4 =  1.0 \n",
            "Résultat =  21000.0\n"
          ]
        }
      ]
    },
    {
      "cell_type": "markdown",
      "source": [
        "Avec la condition deux investissements max autorisés"
      ],
      "metadata": {
        "id": "wOki9cxoF20d"
      }
    },
    {
      "cell_type": "code",
      "source": [
        "#Créer le problème\n",
        "prob = LpProblem(\"sac_a_dos\", LpMaximize)\n",
        "\n",
        "#Créer les variables\n",
        "x1 = LpVariable(\"x1\", lowBound=0, cat=\"Binary\")\n",
        "x2 = LpVariable(\"x2\", lowBound=0, cat=\"Binary\")\n",
        "x3 = LpVariable(\"x3\", lowBound=0, cat=\"Binary\")\n",
        "x4 = LpVariable(\"x4\", lowBound=0, cat=\"Binary\")\n",
        "\n",
        "#La fonction à optimiser\n",
        "\n",
        "prob += 8000*x1+11000*x2+6000*x3+4000*x4\n",
        "\n",
        "#Les contraintes\n",
        "\n",
        "prob += 6700*x1+10000*x2+5500*x3+3400*x4 <= 19000\n",
        "prob += x1+x2+x3+x4 <= 2\n",
        "\n",
        "#La résolution\n",
        "\n",
        "sol = prob.solve()\n",
        "\n",
        "#Affichage de la solution\n",
        "\n",
        "print(\"x1 = \", value(x1), \" ; x2 = \", value(x2), \" ; x3 = \", value(x3), \" ; x4 = \", value(x4), \"\\nRésultat = \", value(prob.objective))"
      ],
      "metadata": {
        "colab": {
          "base_uri": "https://localhost:8080/"
        },
        "id": "hC-kVJqwF6Ri",
        "outputId": "6c652d14-5105-4e03-8bc5-99652cf1b7b1"
      },
      "execution_count": 3,
      "outputs": [
        {
          "output_type": "stream",
          "name": "stdout",
          "text": [
            "x1 =  1.0  ; x2 =  1.0  ; x3 =  0.0  ; x4 =  0.0 \n",
            "Résultat =  19000.0\n"
          ]
        }
      ]
    },
    {
      "cell_type": "markdown",
      "source": [
        "Avec les contraintes : \"si x2 alors x4\" et \"x1 et x3 ne peuvent pas être faits ensembles\""
      ],
      "metadata": {
        "id": "Bq7pyhBGGxxz"
      }
    },
    {
      "cell_type": "code",
      "source": [
        "#Créer le problème\n",
        "prob = LpProblem(\"sac_a_dos\", LpMaximize)\n",
        "\n",
        "#Créer les variables\n",
        "x1 = LpVariable(\"x1\", lowBound=0, cat=\"Binary\")\n",
        "x2 = LpVariable(\"x2\", lowBound=0, cat=\"Binary\")\n",
        "x3 = LpVariable(\"x3\", lowBound=0, cat=\"Binary\")\n",
        "x4 = LpVariable(\"x4\", lowBound=0, cat=\"Binary\")\n",
        "\n",
        "#La fonction à optimiser\n",
        "\n",
        "prob += 8000*x1+11000*x2+6000*x3+4000*x4\n",
        "\n",
        "#Les contraintes\n",
        "\n",
        "prob += 6700*x1+10000*x2+5500*x3+3400*x4 <= 19000\n",
        "prob += x2-x4 <= 0\n",
        "prob += x1+x3 <= 1\n",
        "\n",
        "#La résolution\n",
        "\n",
        "sol = prob.solve()\n",
        "\n",
        "#Affichage de la solution\n",
        "\n",
        "print(\"x1 = \", value(x1), \" ; x2 = \", value(x2), \" ; x3 = \", value(x3), \" ; x4 = \", value(x4), \"\\nRésultat = \", value(prob.objective))"
      ],
      "metadata": {
        "colab": {
          "base_uri": "https://localhost:8080/"
        },
        "id": "dSQB1zvoIQ36",
        "outputId": "e16f3635-6646-4d3d-9e79-2126adaa9cb3"
      },
      "execution_count": 7,
      "outputs": [
        {
          "output_type": "stream",
          "name": "stdout",
          "text": [
            "x1 =  0.0  ; x2 =  1.0  ; x3 =  1.0  ; x4 =  1.0 \n",
            "Résultat =  21000.0\n"
          ]
        }
      ]
    }
  ]
}