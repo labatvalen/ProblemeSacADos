{
  "nbformat": 4,
  "nbformat_minor": 0,
  "metadata": {
    "colab": {
      "name": "optim.ipynb",
      "provenance": []
    },
    "kernelspec": {
      "name": "python3",
      "display_name": "Python 3"
    },
    "language_info": {
      "name": "python"
    }
  },
  "cells": [
    {
      "cell_type": "markdown",
      "source": [
        "# Imports\n",
        "\n"
      ],
      "metadata": {
        "id": "o2DVTGH0jcit"
      }
    },
    {
      "cell_type": "code",
      "source": [
        "import itertools"
      ],
      "metadata": {
        "id": "bhzjrHyWjbsz"
      },
      "execution_count": null,
      "outputs": []
    },
    {
      "cell_type": "markdown",
      "source": [
        "# Préparation des variables"
      ],
      "metadata": {
        "id": "uuYx-3vRihGE"
      }
    },
    {
      "cell_type": "code",
      "execution_count": null,
      "metadata": {
        "id": "Ww6x3QzbicnC"
      },
      "outputs": [],
      "source": [
        "a1 = 8000\n",
        "a2 = 11000\n",
        "a3 = 6000\n",
        "a4 = 4000\n",
        "m1 = 6700\n",
        "m2 = 10000\n",
        "m3 = 5500\n",
        "m4 = 3400\n",
        "liste_projets = [a1, a2, a3, a4]\n",
        "critere = 19000"
      ]
    },
    {
      "cell_type": "code",
      "source": [
        " combinaisons = [list(itertools.combinations(liste_projets, i)) for i in range(len(liste_projets))]\n",
        " combinaisons"
      ],
      "metadata": {
        "colab": {
          "base_uri": "https://localhost:8080/"
        },
        "id": "9l8JplpjjMWV",
        "outputId": "c4b0de43-4e0f-479f-83a7-5fe52fa97e40"
      },
      "execution_count": null,
      "outputs": [
        {
          "output_type": "execute_result",
          "data": {
            "text/plain": [
              "[[()],\n",
              " [(8000,), (11000,), (6000,), (4000,)],\n",
              " [(8000, 11000),\n",
              "  (8000, 6000),\n",
              "  (8000, 4000),\n",
              "  (11000, 6000),\n",
              "  (11000, 4000),\n",
              "  (6000, 4000)],\n",
              " [(8000, 11000, 6000),\n",
              "  (8000, 11000, 4000),\n",
              "  (8000, 6000, 4000),\n",
              "  (11000, 6000, 4000)]]"
            ]
          },
          "metadata": {},
          "execution_count": 55
        }
      ]
    },
    {
      "cell_type": "code",
      "source": [
        "def modif_combinaisons(combinaisons):\n",
        "  res = []\n",
        "  for i in range(len(combinaisons)):\n",
        "    for j in range(len(combinaisons[i])):\n",
        "      if (list(combinaisons[i][j]) != []):\n",
        "        res.append(list(combinaisons[i][j]))\n",
        "  return res\n",
        "\n",
        "combinaisons = modif_combinaisons(combinaisons)\n",
        "print(combinaisons)"
      ],
      "metadata": {
        "colab": {
          "base_uri": "https://localhost:8080/"
        },
        "id": "aCVyqVIFlOLC",
        "outputId": "fb6ad26b-62e9-45f6-c742-de988e52cec8"
      },
      "execution_count": null,
      "outputs": [
        {
          "output_type": "stream",
          "name": "stdout",
          "text": [
            "[[8000], [11000], [6000], [4000], [8000, 11000], [8000, 6000], [8000, 4000], [11000, 6000], [11000, 4000], [6000, 4000], [8000, 11000, 6000], [8000, 11000, 4000], [8000, 6000, 4000], [11000, 6000, 4000]]\n"
          ]
        }
      ]
    },
    {
      "cell_type": "code",
      "source": [
        "def somme_critère(tab_une_combinaison, a1, a2, a3, a4, m1, m2, m3, m4):\n",
        "  somme = 0\n",
        "  for i in range(len(tab_une_combinaison)):\n",
        "    if (tab_une_combinaison[i] == a1):\n",
        "      somme += m1\n",
        "    elif (tab_une_combinaison[i] == a2):\n",
        "      somme += m2\n",
        "    elif (tab_une_combinaison[i] == a3):\n",
        "      somme += m3\n",
        "    elif (tab_une_combinaison[i] == a4):\n",
        "      somme += m4\n",
        "  return(somme)"
      ],
      "metadata": {
        "id": "QnenmCY9mGm8"
      },
      "execution_count": null,
      "outputs": []
    },
    {
      "cell_type": "code",
      "source": [
        "sommes_criteres = []\n",
        "somme_combinaisons = []\n",
        "for i in range(len(combinaisons)):\n",
        "  sommes_criteres.append(somme_critère(combinaisons[i], a1, a2, a3, a4, m1, m2, m3, m4))\n",
        "  somme_combinaisons.append(sum(combinaisons[i]))\n",
        "\n",
        "print(\"Somme des critères : \", sommes_criteres)\n",
        "print(\"Somme des combinaisons : \", somme_combinaisons)"
      ],
      "metadata": {
        "colab": {
          "base_uri": "https://localhost:8080/"
        },
        "id": "OC0yyWfYnfXS",
        "outputId": "d8693b98-df35-4ca5-ad0b-141c09707a1b"
      },
      "execution_count": null,
      "outputs": [
        {
          "output_type": "stream",
          "name": "stdout",
          "text": [
            "Somme des critères :  [6700, 10000, 5500, 3400, 16700, 12200, 10100, 15500, 13400, 8900, 22200, 20100, 15600, 18900]\n",
            "Somme des combinaisons :  [8000, 11000, 6000, 4000, 19000, 14000, 12000, 17000, 15000, 10000, 25000, 23000, 18000, 21000]\n"
          ]
        }
      ]
    },
    {
      "cell_type": "code",
      "source": [
        "def resultat_maximisation(sommes_criteres, sommes_combinaisons, critere, combinaisons):\n",
        "  res_somme_combinaisons = sommes_combinaisons[0]\n",
        "  res_somme_criteres = sommes_criteres[0]\n",
        "  meilleure_combinaison = []\n",
        "  for i in range(len(sommes_criteres)):\n",
        "    if (sommes_criteres[i] <= critere):\n",
        "      if(res_somme_combinaisons < sommes_combinaisons[i]):\n",
        "        res_somme_combinaisons = sommes_combinaisons[i]\n",
        "        res_somme_criteres = sommes_criteres[i]\n",
        "        meilleure_combinaison = combinaisons[i]\n",
        "  retour = [res_somme_combinaisons, res_somme_criteres, meilleure_combinaison]\n",
        "  return(retour)\n",
        "\n",
        "\n",
        "res_maxim_brute_force = resultat_maximisation(sommes_criteres, somme_combinaisons, critere, combinaisons)\n",
        "print(\"Meilleure somme combinaison : \", res_maxim_brute_force[0])\n",
        "print(\"Meilleure somme critères : \", res_maxim_brute_force[1])\n",
        "print(\"Meilleure combinaison : \", res_maxim_brute_force[2])"
      ],
      "metadata": {
        "colab": {
          "base_uri": "https://localhost:8080/"
        },
        "id": "sEBdF3NtoPit",
        "outputId": "414817f4-264b-4936-98d0-9a071fc1cf69"
      },
      "execution_count": null,
      "outputs": [
        {
          "output_type": "stream",
          "name": "stdout",
          "text": [
            "Meilleure somme combinaison :  21000\n",
            "Meilleure somme critères :  18900\n",
            "Meilleure combinaison :  [11000, 6000, 4000]\n"
          ]
        }
      ]
    }
  ]
}